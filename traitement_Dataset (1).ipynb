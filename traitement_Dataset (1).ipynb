{
  "cells": [
    {
      "cell_type": "code",
      "execution_count": null,
      "metadata": {
        "id": "dVwcExUC-hDi"
      },
      "outputs": [],
      "source": [
        "!pip install -q datasets\n",
        "!huggingface-cli login"
      ]
    },
    {
      "cell_type": "code",
      "execution_count": null,
      "metadata": {
        "colab": {
          "base_uri": "https://localhost:8080/"
        },
        "id": "C50UUxdE_d14",
        "outputId": "1dcff564-b9cd-484f-e8b5-0810e690c7e2"
      },
      "outputs": [
        {
          "name": "stdout",
          "output_type": "stream",
          "text": [
            "<s>[INST] What is the role of the tender committee in Moroccan public procurement? [/INST] The tender committee is responsible for evaluating bids, ensuring fairness and transparency, and recommending contract awards. </s>\n",
            "<s>[INST] What is the significance of the article 30 of the decree? [/INST] Article 30 of the decree sets out the rules for contract performance, including the requirements for timely and satisfactory performance of the contract. </s>\n",
            "<s>[INST] What is the tendering process for public procurement in Morocco? [/INST] The tendering process in Morocco involves advertising, bid submission, evaluation, and contract award. </s>\n",
            "<s>[INST] How does the decree promote good governance in public procurement? [/INST] The decree promotes good governance through transparency, accountability, and clear rules and procedures for public procurement. </s>\n",
            "<s>[INST] What is the significance of the article 48 of the decree? [/INST] Article 48 of the decree sets out the rules for the establishment of the commission de dépouillement and its responsibilities. </s>\n"
          ]
        }
      ],
      "source": [
        "from datasets import load_dataset\n",
        "\n",
        "# Load the dataset\n",
        "dataset = load_dataset('salmapm/dataset-llam2_7b')\n",
        "\n",
        "# Determine the actual size of the dataset\n",
        "dataset_size = len(dataset['train'])\n",
        "\n",
        "# Shuffle the dataset and slice it according to its actual size\n",
        "dataset = dataset['train'].shuffle(seed=42).select(range(dataset_size))\n",
        "\n",
        "# Define a function to transform the data\n",
        "def transform_conversation(example):\n",
        "    human_text = example['Human']\n",
        "    assistant_text = example['Assistant']\n",
        "\n",
        "    # Apply the new template\n",
        "    reformatted_text = f'<s>[INST] {human_text} [/INST] {assistant_text} </s>'\n",
        "\n",
        "    return {'text': reformatted_text}\n",
        "\n",
        "# Apply the transformation\n",
        "transformed_dataset = dataset.map(transform_conversation)\n",
        "\n",
        "# Print a few examples to verify the transformation\n",
        "for example in transformed_dataset.select(range(5)):\n",
        "    print(example['text'])"
      ]
    },
    {
      "cell_type": "code",
      "execution_count": null,
      "metadata": {
        "colab": {
          "background_save": true,
          "base_uri": "https://localhost:8080/",
          "height": 117,
          "referenced_widgets": [
            "c782f949c9ea463da11976782560691f",
            "ed07f786bc514598aa227d8db5f3a877",
            "d28956d4ee2e479e81c3f62ebb24c4d3"
          ]
        },
        "id": "EhaRgRB-Akoc",
        "outputId": "0cd23ab3-20d8-4c22-bc4e-c213f929a55e"
      },
      "outputs": [
        {
          "data": {
            "application/vnd.jupyter.widget-view+json": {
              "model_id": "c782f949c9ea463da11976782560691f",
              "version_major": 2,
              "version_minor": 0
            },
            "text/plain": [
              "Uploading the dataset shards:   0%|          | 0/1 [00:00<?, ?it/s]"
            ]
          },
          "metadata": {},
          "output_type": "display_data"
        },
        {
          "data": {
            "application/vnd.jupyter.widget-view+json": {
              "model_id": "ed07f786bc514598aa227d8db5f3a877",
              "version_major": 2,
              "version_minor": 0
            },
            "text/plain": [
              "Creating parquet from Arrow format:   0%|          | 0/1 [00:00<?, ?ba/s]"
            ]
          },
          "metadata": {},
          "output_type": "display_data"
        },
        {
          "data": {
            "application/vnd.jupyter.widget-view+json": {
              "model_id": "d28956d4ee2e479e81c3f62ebb24c4d3",
              "version_major": 2,
              "version_minor": 0
            },
            "text/plain": [
              "README.md:   0%|          | 0.00/339 [00:00<?, ?B/s]"
            ]
          },
          "metadata": {},
          "output_type": "display_data"
        },
        {
          "data": {
            "application/vnd.google.colaboratory.intrinsic+json": {
              "type": "string"
            },
            "text/plain": [
              "CommitInfo(commit_url='https://huggingface.co/datasets/salmapm/dataset-llam2_7b/commit/27f09183cfb177cbf55e71a82b346e6e4ec4ce8d', commit_message='Upload dataset', commit_description='', oid='27f09183cfb177cbf55e71a82b346e6e4ec4ce8d', pr_url=None, pr_revision=None, pr_num=None)"
            ]
          },
          "execution_count": 28,
          "metadata": {},
          "output_type": "execute_result"
        }
      ],
      "source": [
        "transformed_dataset.push_to_hub(\"dataset-llam2_7b\")"
      ]
    }
  ],
  "metadata": {
    "accelerator": "GPU",
    "colab": {
      "gpuType": "T4",
      "provenance": []
    },
    "kernelspec": {
      "display_name": "Python 3",
      "name": "python3"
    },
    "language_info": {
      "name": "python"
    },
    "widgets": {
      "application/vnd.jupyter.widget-state+json": {}
    }
  },
  "nbformat": 4,
  "nbformat_minor": 0
}